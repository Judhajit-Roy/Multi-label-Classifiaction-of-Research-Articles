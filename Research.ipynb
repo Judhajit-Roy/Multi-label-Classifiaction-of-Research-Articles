{
  "nbformat": 4,
  "nbformat_minor": 0,
  "metadata": {
    "colab": {
      "name": "cs421_research_highlight.ipynb",
      "provenance": []
    },
    "kernelspec": {
      "name": "python3",
      "display_name": "Python 3"
    },
    "language_info": {
      "name": "python"
    },
    "accelerator": "GPU"
  },
  "cells": [
    {
      "cell_type": "code",
      "metadata": {
        "id": "VUfoebjjVEc8"
      },
      "source": [
        "# Glove embedding can be downloaded by uncommenting the following\n",
        "# !wget http://nlp.stanford.edu/data/glove.6B.zip\n",
        "# !unzip glove.6B.zip"
      ],
      "execution_count": null,
      "outputs": []
    },
    {
      "cell_type": "code",
      "metadata": {
        "id": "JARfpvexIhC3"
      },
      "source": [
        "#Machine Learning approaches\n",
        "\n",
        "import pandas as pd\n",
        "import numpy as np\n",
        "from sklearn.multiclass import OneVsRestClassifier\n",
        "from sklearn.linear_model import LogisticRegression\n",
        "from sklearn.svm import LinearSVC\n",
        "from sklearn.feature_extraction.text import TfidfVectorizer\n",
        "from sklearn.naive_bayes import GaussianNB\n",
        "from sklearn.metrics import classification_report\n",
        "from sklearn.model_selection import train_test_split\n",
        "import seaborn as sns"
      ],
      "execution_count": 3,
      "outputs": []
    },
    {
      "cell_type": "code",
      "metadata": {
        "id": "9uBy-_atJCHu"
      },
      "source": [
        "# Reads and stores csv file in the dataframe\n",
        "data = pd.read_csv(\"train.csv\")"
      ],
      "execution_count": 4,
      "outputs": []
    },
    {
      "cell_type": "code",
      "metadata": {
        "colab": {
          "base_uri": "https://localhost:8080/",
          "height": 310
        },
        "id": "K71eOKrUJrAn",
        "outputId": "f3a5750a-e7c8-45fe-a343-64bd7ab91a33"
      },
      "source": [
        "# Displays Top 5 rows in data\n",
        "data.head()"
      ],
      "execution_count": 5,
      "outputs": [
        {
          "output_type": "execute_result",
          "data": {
            "text/html": [
              "<div>\n",
              "<style scoped>\n",
              "    .dataframe tbody tr th:only-of-type {\n",
              "        vertical-align: middle;\n",
              "    }\n",
              "\n",
              "    .dataframe tbody tr th {\n",
              "        vertical-align: top;\n",
              "    }\n",
              "\n",
              "    .dataframe thead th {\n",
              "        text-align: right;\n",
              "    }\n",
              "</style>\n",
              "<table border=\"1\" class=\"dataframe\">\n",
              "  <thead>\n",
              "    <tr style=\"text-align: right;\">\n",
              "      <th></th>\n",
              "      <th>ID</th>\n",
              "      <th>TITLE</th>\n",
              "      <th>ABSTRACT</th>\n",
              "      <th>Computer Science</th>\n",
              "      <th>Physics</th>\n",
              "      <th>Mathematics</th>\n",
              "      <th>Statistics</th>\n",
              "      <th>Quantitative Biology</th>\n",
              "      <th>Quantitative Finance</th>\n",
              "    </tr>\n",
              "  </thead>\n",
              "  <tbody>\n",
              "    <tr>\n",
              "      <th>0</th>\n",
              "      <td>1</td>\n",
              "      <td>Reconstructing Subject-Specific Effect Maps</td>\n",
              "      <td>Predictive models allow subject-specific inf...</td>\n",
              "      <td>1</td>\n",
              "      <td>0</td>\n",
              "      <td>0</td>\n",
              "      <td>0</td>\n",
              "      <td>0</td>\n",
              "      <td>0</td>\n",
              "    </tr>\n",
              "    <tr>\n",
              "      <th>1</th>\n",
              "      <td>2</td>\n",
              "      <td>Rotation Invariance Neural Network</td>\n",
              "      <td>Rotation invariance and translation invarian...</td>\n",
              "      <td>1</td>\n",
              "      <td>0</td>\n",
              "      <td>0</td>\n",
              "      <td>0</td>\n",
              "      <td>0</td>\n",
              "      <td>0</td>\n",
              "    </tr>\n",
              "    <tr>\n",
              "      <th>2</th>\n",
              "      <td>3</td>\n",
              "      <td>Spherical polyharmonics and Poisson kernels fo...</td>\n",
              "      <td>We introduce and develop the notion of spher...</td>\n",
              "      <td>0</td>\n",
              "      <td>0</td>\n",
              "      <td>1</td>\n",
              "      <td>0</td>\n",
              "      <td>0</td>\n",
              "      <td>0</td>\n",
              "    </tr>\n",
              "    <tr>\n",
              "      <th>3</th>\n",
              "      <td>4</td>\n",
              "      <td>A finite element approximation for the stochas...</td>\n",
              "      <td>The stochastic Landau--Lifshitz--Gilbert (LL...</td>\n",
              "      <td>0</td>\n",
              "      <td>0</td>\n",
              "      <td>1</td>\n",
              "      <td>0</td>\n",
              "      <td>0</td>\n",
              "      <td>0</td>\n",
              "    </tr>\n",
              "    <tr>\n",
              "      <th>4</th>\n",
              "      <td>5</td>\n",
              "      <td>Comparative study of Discrete Wavelet Transfor...</td>\n",
              "      <td>Fourier-transform infra-red (FTIR) spectra o...</td>\n",
              "      <td>1</td>\n",
              "      <td>0</td>\n",
              "      <td>0</td>\n",
              "      <td>1</td>\n",
              "      <td>0</td>\n",
              "      <td>0</td>\n",
              "    </tr>\n",
              "  </tbody>\n",
              "</table>\n",
              "</div>"
            ],
            "text/plain": [
              "   ID  ... Quantitative Finance\n",
              "0   1  ...                    0\n",
              "1   2  ...                    0\n",
              "2   3  ...                    0\n",
              "3   4  ...                    0\n",
              "4   5  ...                    0\n",
              "\n",
              "[5 rows x 9 columns]"
            ]
          },
          "metadata": {},
          "execution_count": 5
        }
      ]
    },
    {
      "cell_type": "code",
      "metadata": {
        "colab": {
          "base_uri": "https://localhost:8080/",
          "height": 609
        },
        "id": "85fWyHJ_JOEt",
        "outputId": "15eab435-897b-4d84-cfc3-9a95d69cdea8"
      },
      "source": [
        "# Plot to show data distributions among classes\n",
        "sns.set(rc={'figure.figsize':(12.7,10.27)})\n",
        "chart = sns.barplot(x=data.columns[3:],y=data.iloc[:,3:].sum().values)"
      ],
      "execution_count": 6,
      "outputs": [
        {
          "output_type": "display_data",
          "data": {
            "image/png": "[encoded data removed]",
            "text/plain": [
              "<Figure size 914.4x739.44 with 1 Axes>"
            ]
          },
          "metadata": {}
        }
      ]
    },
    {
      "cell_type": "code",
      "metadata": {
        "id": "xAZBwYnRJl3s"
      },
      "source": [
        "# Method to preprocess text \n",
        "def preprocessor(txt):\n",
        "\n",
        "  #replacing integers and decimals\n",
        "  modified_txt = txt.str.replace(r'\\d+(\\.\\d+)?', 'num')\n",
        "\n",
        "  #removing punctuation\n",
        "  modified_txt = modified_txt.str.replace(r'[^\\w\\d\\s]',' ')\n",
        "\n",
        "  #removing extra white space\n",
        "  modified_txt = modified_txt.str.replace(r'\\s+', ' ')\n",
        "\n",
        "  #remove start and end white space\n",
        "  modified_txt = modified_txt.str.strip().str.lower()\n",
        "\n",
        "  return modified_txt"
      ],
      "execution_count": 7,
      "outputs": []
    },
    {
      "cell_type": "code",
      "metadata": {
        "id": "WqVIzVF5J6Qi"
      },
      "source": [
        "# Title and abstract are concatenated \n",
        "text = data['TITLE'] + ' '+ data['ABSTRACT']"
      ],
      "execution_count": 8,
      "outputs": []
    },
    {
      "cell_type": "code",
      "metadata": {
        "colab": {
          "base_uri": "https://localhost:8080/",
          "height": 140
        },
        "id": "jJ1Idw0OKVcS",
        "outputId": "fecfb90c-b092-4576-8c31-cb3278037d02"
      },
      "source": [
        "# Example of text before processing\n",
        "text[0]"
      ],
      "execution_count": 9,
      "outputs": [
        {
          "output_type": "execute_result",
          "data": {
            "application/vnd.google.colaboratory.intrinsic+json": {
              "type": "string"
            },
            "text/plain": [
              "\"Reconstructing Subject-Specific Effect Maps   Predictive models allow subject-specific inference when analyzing disease\\nrelated alterations in neuroimaging data. Given a subject's data, inference can\\nbe made at two levels: global, i.e. identifiying condition presence for the\\nsubject, and local, i.e. detecting condition effect on each individual\\nmeasurement extracted from the subject's data. While global inference is widely\\nused, local inference, which can be used to form subject-specific effect maps,\\nis rarely used because existing models often yield noisy detections composed of\\ndispersed isolated islands. In this article, we propose a reconstruction\\nmethod, named RSM, to improve subject-specific detections of predictive\\nmodeling approaches and in particular, binary classifiers. RSM specifically\\naims to reduce noise due to sampling error associated with using a finite\\nsample of examples to train classifiers. The proposed method is a wrapper-type\\nalgorithm that can be used with different binary classifiers in a diagnostic\\nmanner, i.e. without information on condition presence. Reconstruction is posed\\nas a Maximum-A-Posteriori problem with a prior model whose parameters are\\nestimated from training data in a classifier-specific fashion. Experimental\\nevaluation is performed on synthetically generated data and data from the\\nAlzheimer's Disease Neuroimaging Initiative (ADNI) database. Results on\\nsynthetic data demonstrate that using RSM yields higher detection accuracy\\ncompared to using models directly or with bootstrap averaging. Analyses on the\\nADNI dataset show that RSM can also improve correlation between\\nsubject-specific detections in cortical thickness data and non-imaging markers\\nof Alzheimer's Disease (AD), such as the Mini Mental State Examination Score\\nand Cerebrospinal Fluid amyloid-$\\\\beta$ levels. Further reliability studies on\\nthe longitudinal ADNI dataset show improvement on detection reliability when\\nRSM is used.\\n\""
            ]
          },
          "metadata": {},
          "execution_count": 9
        }
      ]
    },
    {
      "cell_type": "code",
      "metadata": {
        "id": "ZPQ1knQfKKe6"
      },
      "source": [
        "# Preprocessing of text using method preprocessor\n",
        "text = preprocessor(text)"
      ],
      "execution_count": 10,
      "outputs": []
    },
    {
      "cell_type": "code",
      "metadata": {
        "colab": {
          "base_uri": "https://localhost:8080/",
          "height": 140
        },
        "id": "fLtXs-ymKT7P",
        "outputId": "b3368a89-1bf4-4cbb-b799-085ac9b39526"
      },
      "source": [
        "# Example of text after processing\n",
        "text[0]"
      ],
      "execution_count": 11,
      "outputs": [
        {
          "output_type": "execute_result",
          "data": {
            "application/vnd.google.colaboratory.intrinsic+json": {
              "type": "string"
            },
            "text/plain": [
              "'reconstructing subject specific effect maps predictive models allow subject specific inference when analyzing disease related alterations in neuroimaging data given a subject s data inference can be made at two levels global i e identifiying condition presence for the subject and local i e detecting condition effect on each individual measurement extracted from the subject s data while global inference is widely used local inference which can be used to form subject specific effect maps is rarely used because existing models often yield noisy detections composed of dispersed isolated islands in this article we propose a reconstruction method named rsm to improve subject specific detections of predictive modeling approaches and in particular binary classifiers rsm specifically aims to reduce noise due to sampling error associated with using a finite sample of examples to train classifiers the proposed method is a wrapper type algorithm that can be used with different binary classifiers in a diagnostic manner i e without information on condition presence reconstruction is posed as a maximum a posteriori problem with a prior model whose parameters are estimated from training data in a classifier specific fashion experimental evaluation is performed on synthetically generated data and data from the alzheimer s disease neuroimaging initiative adni database results on synthetic data demonstrate that using rsm yields higher detection accuracy compared to using models directly or with bootstrap averaging analyses on the adni dataset show that rsm can also improve correlation between subject specific detections in cortical thickness data and non imaging markers of alzheimer s disease ad such as the mini mental state examination score and cerebrospinal fluid amyloid beta levels further reliability studies on the longitudinal adni dataset show improvement on detection reliability when rsm is used'"
            ]
          },
          "metadata": {},
          "execution_count": 11
        }
      ]
    },
    {
      "cell_type": "code",
      "metadata": {
        "colab": {
          "base_uri": "https://localhost:8080/"
        },
        "id": "Wh91g-IfKUrw",
        "outputId": "6c5c1559-92d1-48df-e112-5d53d9479d9c"
      },
      "source": [
        "# Word_vectorizer is initialized with L2 normalization and vectors are extracted for unigram and bigrams\n",
        "word_vectorizer=TfidfVectorizer(min_df=1, smooth_idf=True, norm=\"l2\",tokenizer=lambda x: x.split(),sublinear_tf=True, ngram_range=(1,3))\n",
        "# verctorizer is fit on the traning text  \n",
        "word_vectorizer.fit(text)\n",
        "# generates vectorized features\n",
        "features = word_vectorizer.transform(text)"
      ],
      "execution_count": 12,
      "outputs": [
        {
          "output_type": "stream",
          "name": "stderr",
          "text": [
            "/usr/local/lib/python3.7/dist-packages/sklearn/feature_extraction/text.py:517: UserWarning: The parameter 'token_pattern' will not be used since 'tokenizer' is not None'\n",
            "  \"The parameter 'token_pattern' will not be used\"\n"
          ]
        }
      ]
    },
    {
      "cell_type": "code",
      "metadata": {
        "id": "sOfr0QQHL2XD"
      },
      "source": [
        "# Targets columns are stored in df\n",
        "targets = data[data.columns[3:]]"
      ],
      "execution_count": 13,
      "outputs": []
    },
    {
      "cell_type": "code",
      "metadata": {
        "id": "a1Bp74-RMBy0"
      },
      "source": [
        "# Data is shuffled and split into training and testing set in the ratio 80:20\n",
        "X_train, X_test, y_train, y_test = train_test_split(features, targets, test_size= 0.2,random_state = 24)"
      ],
      "execution_count": 14,
      "outputs": []
    },
    {
      "cell_type": "code",
      "metadata": {
        "colab": {
          "base_uri": "https://localhost:8080/"
        },
        "id": "UsVW0DgBMX8P",
        "outputId": "b1c5f244-19bd-4997-9e89-9a1693323552"
      },
      "source": [
        "# Data is trained on Naive Bayes to obtain the baseline model\n",
        "from sklearn.naive_bayes import MultinomialNB\n",
        "# Since the target is multi-label a OnevsRest wrapper has to be applied to train the model\n",
        "# The wrapper ensures each class is fitted against other classes\n",
        "mnb = OneVsRestClassifier(MultinomialNB()).fit(X_train, y_train)\n",
        "\n",
        "# obtains the predictions for test data\n",
        "mnbpredictions = mnb.predict(X_test)\n",
        "\n",
        "# displays the classification report for the model\n",
        "print(classification_report(mnbpredictions,y_test))"
      ],
      "execution_count": 15,
      "outputs": [
        {
          "output_type": "stream",
          "name": "stdout",
          "text": [
            "              precision    recall  f1-score   support\n",
            "\n",
            "           0       0.60      0.87      0.71      1183\n",
            "           1       0.20      1.00      0.33       243\n",
            "           2       0.10      0.99      0.18       114\n",
            "           3       0.00      0.00      0.00         0\n",
            "           4       0.00      0.00      0.00         0\n",
            "           5       0.00      0.00      0.00         0\n",
            "\n",
            "   micro avg       0.26      0.90      0.41      1540\n",
            "   macro avg       0.15      0.48      0.20      1540\n",
            "weighted avg       0.50      0.90      0.61      1540\n",
            " samples avg       0.29      0.33      0.30      1540\n",
            "\n"
          ]
        },
        {
          "output_type": "stream",
          "name": "stderr",
          "text": [
            "/usr/local/lib/python3.7/dist-packages/sklearn/metrics/_classification.py:1308: UndefinedMetricWarning: Recall and F-score are ill-defined and being set to 0.0 in labels with no true samples. Use `zero_division` parameter to control this behavior.\n",
            "  _warn_prf(average, modifier, msg_start, len(result))\n",
            "/usr/local/lib/python3.7/dist-packages/sklearn/metrics/_classification.py:1308: UndefinedMetricWarning: Recall and F-score are ill-defined and being set to 0.0 in samples with no true labels. Use `zero_division` parameter to control this behavior.\n",
            "  _warn_prf(average, modifier, msg_start, len(result))\n"
          ]
        }
      ]
    },
    {
      "cell_type": "code",
      "metadata": {
        "colab": {
          "base_uri": "https://localhost:8080/"
        },
        "id": "NqnBsZFuN5ZW",
        "outputId": "ef1efe50-eee0-4492-f5bb-95a17805b305"
      },
      "source": [
        "# logistic regression with l2 normalization\n",
        "lrclassifier=OneVsRestClassifier(LogisticRegression(penalty=\"l2\"))\n",
        "lrclassifier.fit(X_train, y_train)\n",
        "lrpredictions=lrclassifier.predict(X_test)\n",
        "\n",
        "print(classification_report(lrpredictions,y_test))"
      ],
      "execution_count": 16,
      "outputs": [
        {
          "output_type": "stream",
          "name": "stdout",
          "text": [
            "              precision    recall  f1-score   support\n",
            "\n",
            "           0       0.77      0.83      0.80      1586\n",
            "           1       0.68      0.98      0.80       859\n",
            "           2       0.62      0.93      0.75       761\n",
            "           3       0.48      0.86      0.62       555\n",
            "           4       0.00      0.00      0.00         0\n",
            "           5       0.00      0.00      0.00         0\n",
            "\n",
            "   micro avg       0.64      0.89      0.74      3761\n",
            "   macro avg       0.43      0.60      0.49      3761\n",
            "weighted avg       0.68      0.89      0.76      3761\n",
            " samples avg       0.68      0.72      0.69      3761\n",
            "\n"
          ]
        },
        {
          "output_type": "stream",
          "name": "stderr",
          "text": [
            "/usr/local/lib/python3.7/dist-packages/sklearn/metrics/_classification.py:1308: UndefinedMetricWarning: Recall and F-score are ill-defined and being set to 0.0 in labels with no true samples. Use `zero_division` parameter to control this behavior.\n",
            "  _warn_prf(average, modifier, msg_start, len(result))\n",
            "/usr/local/lib/python3.7/dist-packages/sklearn/metrics/_classification.py:1308: UndefinedMetricWarning: Recall and F-score are ill-defined and being set to 0.0 in samples with no true labels. Use `zero_division` parameter to control this behavior.\n",
            "  _warn_prf(average, modifier, msg_start, len(result))\n"
          ]
        }
      ]
    },
    {
      "cell_type": "code",
      "metadata": {
        "colab": {
          "base_uri": "https://localhost:8080/"
        },
        "id": "hMQ9JEryMRwF",
        "outputId": "aace891b-ff61-47f2-b305-806796ff3cb0"
      },
      "source": [
        "# Linear SVC model is trained with l2 normalization of hinge loss (standard parameter to calculate loss for linear svc)\n",
        "classifier=OneVsRestClassifier(LinearSVC(penalty=\"l2\",loss='hinge',class_weight = \"balanced\",fit_intercept=False))\n",
        "classifier.fit(X_train, y_train)\n",
        "predictions=classifier.predict(X_test)\n",
        "print(classification_report(predictions,y_test))"
      ],
      "execution_count": 17,
      "outputs": [
        {
          "output_type": "stream",
          "name": "stdout",
          "text": [
            "              precision    recall  f1-score   support\n",
            "\n",
            "           0       0.89      0.83      0.86      1839\n",
            "           1       0.83      0.94      0.88      1079\n",
            "           2       0.80      0.85      0.83      1069\n",
            "           3       0.79      0.79      0.79      1001\n",
            "           4       0.05      0.60      0.09        10\n",
            "           5       0.21      0.91      0.34        11\n",
            "\n",
            "   micro avg       0.81      0.85      0.83      5009\n",
            "   macro avg       0.59      0.82      0.63      5009\n",
            "weighted avg       0.83      0.85      0.84      5009\n",
            " samples avg       0.84      0.84      0.82      5009\n",
            "\n"
          ]
        },
        {
          "output_type": "stream",
          "name": "stderr",
          "text": [
            "/usr/local/lib/python3.7/dist-packages/sklearn/metrics/_classification.py:1308: UndefinedMetricWarning: Recall and F-score are ill-defined and being set to 0.0 in samples with no true labels. Use `zero_division` parameter to control this behavior.\n",
            "  _warn_prf(average, modifier, msg_start, len(result))\n"
          ]
        }
      ]
    },
    {
      "cell_type": "code",
      "metadata": {
        "id": "5aRTOjWhN1c1"
      },
      "source": [
        "# Deep learning approach (BiLSTM)\n",
        "\n",
        "import matplotlib.pyplot as plt\n",
        "from keras.preprocessing.text import Tokenizer\n",
        "from keras.preprocessing.sequence import pad_sequences\n",
        "from keras.layers import Input,LSTM, Bidirectional,Dense\n",
        "from keras.models import Model\n",
        "from keras.layers.embeddings import Embedding"
      ],
      "execution_count": 18,
      "outputs": []
    },
    {
      "cell_type": "code",
      "metadata": {
        "id": "HhuYavu4OsoF"
      },
      "source": [
        "# Same preprocessing is applied\n",
        "# Tokenizer is initialized and fit on text to create a vocabulary of all the words in the samples\n",
        "word_tokenizer = Tokenizer()\n",
        "word_tokenizer.fit_on_texts(text)\n",
        "\n",
        "# size of vocabulary is obtained\n",
        "vocab_length = len(word_tokenizer.word_index) + 1"
      ],
      "execution_count": 19,
      "outputs": []
    },
    {
      "cell_type": "code",
      "metadata": {
        "id": "kd570Fv7PyZq"
      },
      "source": [
        "# maximum length a sample is obtained for padding limit\n",
        "max_length = max(list(text.apply(lambda x: len(x))))"
      ],
      "execution_count": 20,
      "outputs": []
    },
    {
      "cell_type": "code",
      "metadata": {
        "id": "YuNWPXzXQL1e"
      },
      "source": [
        "X_train, X_test, y_train, y_test = train_test_split(text, targets, test_size= 0.2,random_state = 24)"
      ],
      "execution_count": 21,
      "outputs": []
    },
    {
      "cell_type": "code",
      "metadata": {
        "id": "hrYF20B7PL9C"
      },
      "source": [
        "# Text is tokenized and converted from text to sequences of integers\n",
        "X_train = word_tokenizer.texts_to_sequences(X_train)\n",
        "X_test = word_tokenizer.texts_to_sequences(X_test)\n",
        "\n",
        "# post padding with 0 to generate sequences of same length for neural network\n",
        "X_train = pad_sequences(X_train, padding='post', maxlen=max_length)\n",
        "X_test = pad_sequences(X_test, padding='post', maxlen=max_length)"
      ],
      "execution_count": 22,
      "outputs": []
    },
    {
      "cell_type": "code",
      "metadata": {
        "id": "WHWMfZIVQkcD"
      },
      "source": [
        "# read glove embeddings \n",
        "glove_file = open('/content/glove.6B.200d.txt', encoding=\"utf8\")\n",
        "\n",
        "embeddings_dictionary = dict()\n",
        "\n",
        "# all the words in glove as keys and corresponding embedding vector as values is stored in the dictionary\n",
        "for line in glove_file:\n",
        "    records = line.split()\n",
        "    word = records[0]\n",
        "    vector_dimensions = np.asarray(records[1:], dtype='float32')\n",
        "    embeddings_dictionary[word] = vector_dimensions\n",
        "glove_file.close()"
      ],
      "execution_count": 23,
      "outputs": []
    },
    {
      "cell_type": "code",
      "metadata": {
        "id": "QICeHeC9Rbhb"
      },
      "source": [
        "# a matrix is created with all words in the current vocabulary and corresponding glove vector\n",
        "embedding_matrix = np.zeros((vocab_length, 200))\n",
        "for word, index in word_tokenizer.word_index.items():\n",
        "    embedding_vector = embeddings_dictionary.get(word)\n",
        "    if embedding_vector is not None:\n",
        "        embedding_matrix[index] = embedding_vector"
      ],
      "execution_count": 24,
      "outputs": []
    },
    {
      "cell_type": "code",
      "metadata": {
        "id": "MobUazmNSMxq"
      },
      "source": [
        "# Input layer with max length of sentence/sequence\n",
        "inputs = Input(shape=(max_length,))\n",
        "\n",
        "# creates embeeddings for all the inputs based on matrix obtained in above cell \n",
        "embedding_layer = Embedding(vocab_length, 200, weights=[embedding_matrix], trainable=False)(inputs)\n",
        "\n",
        "# BiLSTM layer with 100 units is moderate amount units for data\n",
        "BiLSTM_Layer = Bidirectional(LSTM(100))(embedding_layer)\n",
        "\n",
        "# Output layer with 6 neurons for 6 classes and sigmoid activation function for output in range (0,1)\n",
        "dense_layer = Dense(6, activation='sigmoid')(BiLSTM_Layer)\n",
        "\n",
        "# creates the model\n",
        "model = Model(inputs=inputs, outputs=dense_layer)\n",
        "\n",
        "# model hyper parameters are binary cross entropy loss and adam optimizer metric displayed is accuracy \n",
        "model.compile(loss='binary_crossentropy', optimizer='adam', metrics=['acc'])"
      ],
      "execution_count": 25,
      "outputs": []
    },
    {
      "cell_type": "code",
      "metadata": {
        "id": "HyriJYSfTYRF",
        "colab": {
          "base_uri": "https://localhost:8080/"
        },
        "outputId": "ab719f82-46a6-4135-cd5b-e86f09b801d6"
      },
      "source": [
        "# displays structure of the model\n",
        "model.summary()"
      ],
      "execution_count": 26,
      "outputs": [
        {
          "output_type": "stream",
          "name": "stdout",
          "text": [
            "Model: \"model\"\n",
            "_________________________________________________________________\n",
            " Layer (type)                Output Shape              Param #   \n",
            "=================================================================\n",
            " input_1 (InputLayer)        [(None, 2796)]            0         \n",
            "                                                                 \n",
            " embedding (Embedding)       (None, 2796, 200)         10446800  \n",
            "                                                                 \n",
            " bidirectional (Bidirectiona  (None, 200)              240800    \n",
            " l)                                                              \n",
            "                                                                 \n",
            " dense (Dense)               (None, 6)                 1206      \n",
            "                                                                 \n",
            "=================================================================\n",
            "Total params: 10,688,806\n",
            "Trainable params: 242,006\n",
            "Non-trainable params: 10,446,800\n",
            "_________________________________________________________________\n"
          ]
        }
      ]
    },
    {
      "cell_type": "code",
      "metadata": {
        "id": "dFpt9SqOTfkx",
        "colab": {
          "base_uri": "https://localhost:8080/"
        },
        "outputId": "5b387c1c-9069-434e-a58b-63f3fe19367e"
      },
      "source": [
        "# since the length of samples is high batch size is kept high, traning for 20 epochs, history stores the loss and metricof all the epochs \n",
        "history = model.fit(X_train, y_train, batch_size=256, epochs=20, verbose=1, validation_split=0.2)"
      ],
      "execution_count": 27,
      "outputs": [
        {
          "output_type": "stream",
          "name": "stdout",
          "text": [
            "Epoch 1/20\n",
            "53/53 [==============================] - 97s 2s/step - loss: 0.4100 - acc: 0.5523 - val_loss: 0.3087 - val_acc: 0.7211\n",
            "Epoch 2/20\n",
            "53/53 [==============================] - 90s 2s/step - loss: 0.2830 - acc: 0.7278 - val_loss: 0.2719 - val_acc: 0.7166\n",
            "Epoch 3/20\n",
            "53/53 [==============================] - 90s 2s/step - loss: 0.2586 - acc: 0.7348 - val_loss: 0.2523 - val_acc: 0.7500\n",
            "Epoch 4/20\n",
            "53/53 [==============================] - 90s 2s/step - loss: 0.2348 - acc: 0.7486 - val_loss: 0.2350 - val_acc: 0.7569\n",
            "Epoch 5/20\n",
            "53/53 [==============================] - 90s 2s/step - loss: 0.2204 - acc: 0.7507 - val_loss: 0.2273 - val_acc: 0.7533\n",
            "Epoch 6/20\n",
            "53/53 [==============================] - 90s 2s/step - loss: 0.2089 - acc: 0.7532 - val_loss: 0.2162 - val_acc: 0.7396\n",
            "Epoch 7/20\n",
            "53/53 [==============================] - 90s 2s/step - loss: 0.2002 - acc: 0.7555 - val_loss: 0.2123 - val_acc: 0.7312\n",
            "Epoch 8/20\n",
            "53/53 [==============================] - 90s 2s/step - loss: 0.1933 - acc: 0.7619 - val_loss: 0.2090 - val_acc: 0.7282\n",
            "Epoch 9/20\n",
            "53/53 [==============================] - 90s 2s/step - loss: 0.1864 - acc: 0.7642 - val_loss: 0.2014 - val_acc: 0.7574\n",
            "Epoch 10/20\n",
            "53/53 [==============================] - 90s 2s/step - loss: 0.1795 - acc: 0.7672 - val_loss: 0.1979 - val_acc: 0.7569\n",
            "Epoch 11/20\n",
            "53/53 [==============================] - 90s 2s/step - loss: 0.1771 - acc: 0.7698 - val_loss: 0.1978 - val_acc: 0.7417\n",
            "Epoch 12/20\n",
            "53/53 [==============================] - 90s 2s/step - loss: 0.1710 - acc: 0.7746 - val_loss: 0.1969 - val_acc: 0.7509\n",
            "Epoch 13/20\n",
            "53/53 [==============================] - 90s 2s/step - loss: 0.1671 - acc: 0.7799 - val_loss: 0.1945 - val_acc: 0.7491\n",
            "Epoch 14/20\n",
            "53/53 [==============================] - 90s 2s/step - loss: 0.1608 - acc: 0.7802 - val_loss: 0.1951 - val_acc: 0.7560\n",
            "Epoch 15/20\n",
            "53/53 [==============================] - 90s 2s/step - loss: 0.1576 - acc: 0.7871 - val_loss: 0.1927 - val_acc: 0.7548\n",
            "Epoch 16/20\n",
            "53/53 [==============================] - 90s 2s/step - loss: 0.1528 - acc: 0.7882 - val_loss: 0.1942 - val_acc: 0.7294\n",
            "Epoch 17/20\n",
            "53/53 [==============================] - 90s 2s/step - loss: 0.1492 - acc: 0.7935 - val_loss: 0.1941 - val_acc: 0.7488\n",
            "Epoch 18/20\n",
            "53/53 [==============================] - 90s 2s/step - loss: 0.1442 - acc: 0.7978 - val_loss: 0.1931 - val_acc: 0.7420\n",
            "Epoch 19/20\n",
            "53/53 [==============================] - 90s 2s/step - loss: 0.1414 - acc: 0.7983 - val_loss: 0.1990 - val_acc: 0.7548\n",
            "Epoch 20/20\n",
            "53/53 [==============================] - 89s 2s/step - loss: 0.1373 - acc: 0.8014 - val_loss: 0.1987 - val_acc: 0.7342\n"
          ]
        }
      ]
    },
    {
      "cell_type": "code",
      "metadata": {
        "id": "Vmm49b1lT0Kt"
      },
      "source": [
        "# obtain predictions for model\n",
        "y_pred = model.predict(X_test)"
      ],
      "execution_count": 28,
      "outputs": []
    },
    {
      "cell_type": "code",
      "metadata": {
        "id": "BXZgJTpQT7iF"
      },
      "source": [
        "# loop to convert values predicted values in range (0,1) to 0 and 1 with threshold 0.5\n",
        "for y in range(len(y_pred)):\n",
        "    for j in range(6):\n",
        "        if y_pred[y][j] < 0.5:\n",
        "            y_pred[y][j] = 0\n",
        "        else:\n",
        "            y_pred[y][j] = 1   "
      ],
      "execution_count": 29,
      "outputs": []
    },
    {
      "cell_type": "code",
      "metadata": {
        "id": "qeWDs_RdUHQ3",
        "colab": {
          "base_uri": "https://localhost:8080/"
        },
        "outputId": "9e01ad3d-4b41-43de-e834-60f5d42cbdb7"
      },
      "source": [
        "print(classification_report(y_pred,y_test))"
      ],
      "execution_count": 30,
      "outputs": [
        {
          "output_type": "stream",
          "name": "stdout",
          "text": [
            "              precision    recall  f1-score   support\n",
            "\n",
            "           0       0.83      0.80      0.82      1784\n",
            "           1       0.79      0.93      0.85      1056\n",
            "           2       0.76      0.81      0.79      1073\n",
            "           3       0.76      0.75      0.76      1023\n",
            "           4       0.34      0.49      0.40        81\n",
            "           5       0.52      0.71      0.60        35\n",
            "\n",
            "   micro avg       0.78      0.81      0.80      5052\n",
            "   macro avg       0.67      0.75      0.70      5052\n",
            "weighted avg       0.79      0.81      0.80      5052\n",
            " samples avg       0.82      0.82      0.80      5052\n",
            "\n"
          ]
        },
        {
          "output_type": "stream",
          "name": "stderr",
          "text": [
            "/usr/local/lib/python3.7/dist-packages/sklearn/metrics/_classification.py:1308: UndefinedMetricWarning: Recall and F-score are ill-defined and being set to 0.0 in samples with no true labels. Use `zero_division` parameter to control this behavior.\n",
            "  _warn_prf(average, modifier, msg_start, len(result))\n"
          ]
        }
      ]
    },
    {
      "cell_type": "code",
      "metadata": {
        "id": "HJgiUoS9UK1G",
        "colab": {
          "base_uri": "https://localhost:8080/",
          "height": 1000
        },
        "outputId": "bef8651a-7995-4c29-bb1f-900e7219e780"
      },
      "source": [
        "# obtaining plots for both loss and accuracy with each increasing epoch\n",
        "plt.plot(history.history['acc'])\n",
        "plt.plot(history.history['val_acc'])\n",
        "\n",
        "plt.title('BiLSTM Model Accuracy')\n",
        "plt.ylabel('accuracy')\n",
        "plt.xlabel('epoch')\n",
        "plt.legend(['train','test'], loc='upper left')\n",
        "plt.show()\n",
        "\n",
        "plt.plot(history.history['loss'])\n",
        "plt.plot(history.history['val_loss'])\n",
        "\n",
        "plt.title('BiLSTM Model loss')\n",
        "plt.ylabel('loss')\n",
        "plt.xlabel('epoch')\n",
        "plt.legend(['train','test'], loc='upper left')\n",
        "plt.show()"
      ],
      "execution_count": 31,
      "outputs": [
        {
          "output_type": "display_data",
          "data": {
            "image/png": "[encoded data removed]",
            "text/plain": [
              "<Figure size 914.4x739.44 with 1 Axes>"
            ]
          },
          "metadata": {}
        },
        {
          "output_type": "display_data",
          "data": {
            "image/png": "[encoded data removed]",
            "text/plain": [
              "<Figure size 914.4x739.44 with 1 Axes>"
            ]
          },
          "metadata": {}
        }
      ]
    },
    {
      "cell_type": "code",
      "metadata": {
        "id": "CPcU_l2rmAha"
      },
      "source": [
        "pip freeze > requirements.txt"
      ],
      "execution_count": 33,
      "outputs": []
    }
  ]
}